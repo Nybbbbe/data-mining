{
 "cells": [
  {
   "cell_type": "code",
   "execution_count": 2,
   "metadata": {},
   "outputs": [],
   "source": [
    "import numpy as np\n",
    "import numpy.linalg as la\n"
   ]
  },
  {
   "cell_type": "markdown",
   "metadata": {},
   "source": [
    "Exersice A"
   ]
  },
  {
   "cell_type": "code",
   "execution_count": 35,
   "metadata": {
    "scrolled": true
   },
   "outputs": [
    {
     "name": "stdout",
     "output_type": "stream",
     "text": [
      "\n",
      "Mean:\n",
      "\n",
      "[[-0.5 -1. ]\n",
      " [-1.  -0.5]\n",
      " [ 1.   0.5]\n",
      " [ 0.5  1. ]]\n",
      "\n",
      "Coveriance Matrix:\n",
      "\n",
      "[[ 0.125 -0.125  0.125 -0.125]\n",
      " [-0.125  0.125 -0.125  0.125]\n",
      " [ 0.125 -0.125  0.125 -0.125]\n",
      " [-0.125  0.125 -0.125  0.125]]\n",
      "\n",
      "Eeigen values:\n",
      "\n",
      "[-5.55111512e-17  5.00000000e-01  0.00000000e+00  0.00000000e+00]\n"
     ]
    }
   ],
   "source": [
    "mat = np.array([[0, 1,], [-0.5, 1.5],[1.5, 2.5], [1, 3]])\n",
    "mean = np.mean(mat, axis=0)\n",
    "mat = mat - mean\n",
    "print(\"\\nMean:\\n\")\n",
    "print(mat)\n",
    "covMatrix = np.cov(mat)\n",
    "print (\"\\nCoveriance Matrix:\\n\")\n",
    "print (covMatrix)\n",
    "w, v = la.eig(covMatrix)\n",
    "print (\"\\nEeigen values:\\n\")\n",
    "print(w)"
   ]
  },
  {
   "cell_type": "code",
   "execution_count": null,
   "metadata": {},
   "outputs": [],
   "source": []
  }
 ],
 "metadata": {
  "kernelspec": {
   "display_name": "Python 3",
   "language": "python",
   "name": "python3"
  },
  "language_info": {
   "codemirror_mode": {
    "name": "ipython",
    "version": 3
   },
   "file_extension": ".py",
   "mimetype": "text/x-python",
   "name": "python",
   "nbconvert_exporter": "python",
   "pygments_lexer": "ipython3",
   "version": "3.6.9"
  }
 },
 "nbformat": 4,
 "nbformat_minor": 4
}
