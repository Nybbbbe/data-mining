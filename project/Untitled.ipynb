{
 "cells": [
  {
   "cell_type": "markdown",
   "metadata": {},
   "source": [
    "# Project"
   ]
  },
  {
   "cell_type": "code",
   "execution_count": 1,
   "metadata": {},
   "outputs": [],
   "source": [
    "import matplotlib.pyplot as plt\n",
    "import pandas as pd\n",
    "import seaborn as sns\n",
    "import csv\n",
    "from sklearn.cluster import KMeans\n",
    "from sklearn.cluster import SpectralClustering\n",
    "from sklearn.experimental import enable_iterative_imputer\n",
    "from sklearn.impute import IterativeImputer\n",
    "from sklearn.metrics import silhouette_score\n",
    "from sklearn.metrics import davies_bouldin_score\n",
    "from sklearn.metrics import normalized_mutual_info_score\n",
    "from sklearn.cluster import Birch\n",
    "from sklearn.cluster import AgglomerativeClustering\n",
    "from sklearn.mixture import GaussianMixture\n",
    "import math\n",
    "%matplotlib inline"
   ]
  },
  {
   "cell_type": "markdown",
   "metadata": {},
   "source": [
    "In this notebook two different data tables are clustered with different clustering methods and clusters are the evaulated with the Normalized Mutual Information Score. The clusterings are mostly done with the help of the python library sklearn which has been used alot in the course. The order of this document will be:\n",
    "\n",
    "Data in 'msdata.csv' is clustered with:\n",
    "\n",
    "    1. K-means clustering\n",
    "    2. Spectral clustering\n",
    "    \n",
    "Then the data in 'genedata.csv' is clustered with:\n",
    "\n",
    "    1. K-means clustering"
   ]
  },
  {
   "cell_type": "code",
   "execution_count": 4,
   "metadata": {},
   "outputs": [],
   "source": [
    "msdf = pd.read_csv('msdata.csv')\n",
    "msdfdata = msdf[msdf.columns[2:]]"
   ]
  },
  {
   "cell_type": "markdown",
   "metadata": {},
   "source": [
    "1. K-means clustering"
   ]
  },
  {
   "cell_type": "code",
   "execution_count": 10,
   "metadata": {},
   "outputs": [
    {
     "name": "stdout",
     "output_type": "stream",
     "text": [
      "Gaussian Mixture with 5 clusters Normalized Mutual Information Score: 0.19647120081991729\n"
     ]
    }
   ],
   "source": [
    "mixture = GaussianMixture(n_components=3).fit(msdfdata)\n",
    "label = mixture.fit_predict(X=msdfdata)\n",
    "mixtureNorm = normalized_mutual_info_score(msdf['class'], label)\n",
    "print(\"Gaussian Mixture with {} clusters Normalized Mutual Information Score: {}\".format(5, mixtureNorm))"
   ]
  },
  {
   "cell_type": "code",
   "execution_count": 141,
   "metadata": {},
   "outputs": [
    {
     "name": "stdout",
     "output_type": "stream",
     "text": [
      "KMeans with 3 clusters Normalized Mutual Information Score: 0.0021235077943874726\n",
      "KMeans with 3 clusters Normalized Mutual Information Score: 0.2881858402978518\n",
      "KMeans with 3 clusters Normalized Mutual Information Score: 0.3438910697221467\n",
      "KMeans with 3 clusters Normalized Mutual Information Score: 0.0021235077943874726\n",
      "KMeans with 3 clusters Normalized Mutual Information Score: 0.2605956585788048\n",
      "KMeans with 3 clusters Normalized Mutual Information Score: 0.0685672903239692\n",
      "KMeans with 3 clusters Normalized Mutual Information Score: 0.0025629996526432964\n",
      "KMeans with 3 clusters Normalized Mutual Information Score: 0.12225507895618175\n",
      "KMeans with 3 clusters Normalized Mutual Information Score: 0.07573738871720363\n",
      "KMeans with 3 clusters Normalized Mutual Information Score: 0.06901569612116151\n"
     ]
    }
   ],
   "source": [
    "for i in range(10):\n",
    "    kmeans = KMeans(n_clusters=3, algorithm=\"elkan\").fit(msdfdata)\n",
    "    label = kmeans.labels_\n",
    "    kmeanNorm = normalized_mutual_info_score(msdf['class'], label)\n",
    "    print(\"KMeans with {} clusters Normalized Mutual Information Score: {}\".format(3, kmeanNorm))\n"
   ]
  },
  {
   "cell_type": "markdown",
   "metadata": {},
   "source": [
    "2. Spectral clustering"
   ]
  },
  {
   "cell_type": "code",
   "execution_count": 53,
   "metadata": {},
   "outputs": [
    {
     "name": "stderr",
     "output_type": "stream",
     "text": [
      "/home/calle/.local/lib/python3.6/site-packages/sklearn/manifold/_spectral_embedding.py:236: UserWarning: Graph is not fully connected, spectral embedding may not work as expected.\n",
      "  warnings.warn(\"Graph is not fully connected, spectral embedding\"\n"
     ]
    },
    {
     "name": "stdout",
     "output_type": "stream",
     "text": [
      "Spectral Clustering with 3 clusters Normalized Mutual Information Score: 0.00198937067956181\n"
     ]
    }
   ],
   "source": [
    "clustering = SpectralClustering(n_clusters=3).fit(msdfdata)\n",
    "label = clustering.labels_\n",
    "specNorm = normalized_mutual_info_score(msdf['class'], label)\n",
    "print(\"Spectral Clustering with {} clusters Normalized Mutual Information Score: {}\".format(3, specNorm))"
   ]
  },
  {
   "cell_type": "code",
   "execution_count": 49,
   "metadata": {},
   "outputs": [
    {
     "name": "stdout",
     "output_type": "stream",
     "text": [
      "Birch with 3 clusters Normalized Mutual Information Score: 0.27482636965510837\n"
     ]
    }
   ],
   "source": [
    "brch = Birch(n_clusters=3).fit(msdfdata)\n",
    "label = brch.labels_\n",
    "brchNorm = normalized_mutual_info_score(msdf['class'], label)\n",
    "print(\"Birch with {} clusters Normalized Mutual Information Score: {}\".format(3, brchNorm))"
   ]
  },
  {
   "cell_type": "code",
   "execution_count": 156,
   "metadata": {},
   "outputs": [
    {
     "name": "stdout",
     "output_type": "stream",
     "text": [
      "Agglomerative with 3 clusters Normalized Mutual Information Score: 0.27482636965510837\n"
     ]
    }
   ],
   "source": [
    "agglo = AgglomerativeClustering(n_clusters=3, linkage=\"ward\").fit(msdfdata)\n",
    "label = agglo.labels_\n",
    "aggloNorm = normalized_mutual_info_score(msdf['class'], label)\n",
    "print(\"Agglomerative with {} clusters Normalized Mutual Information Score: {}\".format(3, aggloNorm))"
   ]
  },
  {
   "cell_type": "code",
   "execution_count": 96,
   "metadata": {},
   "outputs": [
    {
     "name": "stdout",
     "output_type": "stream",
     "text": [
      "Agglomerative with 3 clusters Normalized Mutual Information Score: 0.24888999110524618\n"
     ]
    }
   ],
   "source": [
    "agglo = AgglomerativeClustering(n_clusters=3, linkage=\"complete\").fit(msdfdata)\n",
    "label = agglo.labels_\n",
    "aggloNorm = normalized_mutual_info_score(msdf['class'], label)\n",
    "print(\"Agglomerative with {} clusters Normalized Mutual Information Score: {}\".format(3, aggloNorm))"
   ]
  },
  {
   "cell_type": "code",
   "execution_count": 95,
   "metadata": {},
   "outputs": [
    {
     "name": "stdout",
     "output_type": "stream",
     "text": [
      "Agglomerative with 3 clusters Normalized Mutual Information Score: 0.005381200906424743\n"
     ]
    }
   ],
   "source": [
    "agglo = AgglomerativeClustering(n_clusters=3, linkage=\"average\").fit(msdfdata)\n",
    "label = agglo.labels_\n",
    "aggloNorm = normalized_mutual_info_score(msdf['class'], label)\n",
    "print(\"Agglomerative with {} clusters Normalized Mutual Information Score: {}\".format(3, aggloNorm))"
   ]
  },
  {
   "cell_type": "code",
   "execution_count": 94,
   "metadata": {},
   "outputs": [
    {
     "name": "stdout",
     "output_type": "stream",
     "text": [
      "Agglomerative with 3 clusters Normalized Mutual Information Score: 0.005381200906424743\n"
     ]
    }
   ],
   "source": [
    "agglo = AgglomerativeClustering(n_clusters=3, linkage=\"single\").fit(msdfdata)\n",
    "label = agglo.labels_\n",
    "aggloNorm = normalized_mutual_info_score(msdf['class'], label)\n",
    "print(\"Agglomerative with {} clusters Normalized Mutual Information Score: {}\".format(3, aggloNorm))"
   ]
  },
  {
   "cell_type": "markdown",
   "metadata": {},
   "source": [
    "Starting to cluster the other data file"
   ]
  },
  {
   "cell_type": "code",
   "execution_count": 2,
   "metadata": {},
   "outputs": [],
   "source": [
    "gdf = pd.read_csv('genedata.csv')\n",
    "gdfdata = gdf[gdf.columns[2:]]"
   ]
  },
  {
   "cell_type": "code",
   "execution_count": 165,
   "metadata": {},
   "outputs": [
    {
     "name": "stdout",
     "output_type": "stream",
     "text": [
      "KMeans with 6 clusters Normalized Mutual Information Score: 0.8585223963240158\n",
      "KMeans with 6 clusters Normalized Mutual Information Score: 0.8585223963240157\n",
      "KMeans with 6 clusters Normalized Mutual Information Score: 0.8562552442666413\n",
      "KMeans with 6 clusters Normalized Mutual Information Score: 0.8585223963240158\n",
      "KMeans with 6 clusters Normalized Mutual Information Score: 0.8573817801714915\n",
      "KMeans with 6 clusters Normalized Mutual Information Score: 0.8562552442666413\n",
      "KMeans with 6 clusters Normalized Mutual Information Score: 0.8562552442666411\n",
      "KMeans with 6 clusters Normalized Mutual Information Score: 0.8562552442666413\n",
      "KMeans with 6 clusters Normalized Mutual Information Score: 0.8562552442666411\n",
      "KMeans with 6 clusters Normalized Mutual Information Score: 0.8585223963240158\n"
     ]
    }
   ],
   "source": [
    "for i in range(10):\n",
    "    kmeans = KMeans(n_clusters=5, algorithm=\"full\").fit(gdfdata)\n",
    "    label = kmeans.labels_\n",
    "    kmeanNorm = normalized_mutual_info_score(gdf['class'], label)\n",
    "    print(\"KMeans with {} clusters Normalized Mutual Information Score: {}\".format(6, kmeanNorm))\n"
   ]
  },
  {
   "cell_type": "markdown",
   "metadata": {},
   "source": [
    "Spectral clustering"
   ]
  },
  {
   "cell_type": "code",
   "execution_count": 162,
   "metadata": {},
   "outputs": [
    {
     "name": "stderr",
     "output_type": "stream",
     "text": [
      "/home/calle/.local/lib/python3.6/site-packages/sklearn/manifold/_spectral_embedding.py:236: UserWarning: Graph is not fully connected, spectral embedding may not work as expected.\n",
      "  warnings.warn(\"Graph is not fully connected, spectral embedding\"\n"
     ]
    },
    {
     "name": "stdout",
     "output_type": "stream",
     "text": [
      "Spectral Clustering with 6 clusters Normalized Mutual Information Score: 0.017081943187279937\n"
     ]
    }
   ],
   "source": [
    "clustering = SpectralClustering(n_clusters=5).fit(gdfdata)\n",
    "label = clustering.labels_\n",
    "specNorm = normalized_mutual_info_score(gdf['class'], label)\n",
    "print(\"Spectral Clustering with {} clusters Normalized Mutual Information Score: {}\".format(6, specNorm))"
   ]
  },
  {
   "cell_type": "code",
   "execution_count": 161,
   "metadata": {},
   "outputs": [
    {
     "name": "stdout",
     "output_type": "stream",
     "text": [
      "Birch with 6 clusters Normalized Mutual Information Score: 0.8837237641659977\n"
     ]
    }
   ],
   "source": [
    "brch = Birch(n_clusters=5).fit(gdfdata)\n",
    "label = brch.labels_\n",
    "brchNorm = normalized_mutual_info_score(gdf['class'], label)\n",
    "print(\"Birch with {} clusters Normalized Mutual Information Score: {}\".format(6, brchNorm))"
   ]
  },
  {
   "cell_type": "code",
   "execution_count": 160,
   "metadata": {},
   "outputs": [
    {
     "name": "stdout",
     "output_type": "stream",
     "text": [
      "Agglomerative with 6 clusters Normalized Mutual Information Score: 0.8837237641659977\n"
     ]
    }
   ],
   "source": [
    "agglo = AgglomerativeClustering(n_clusters=5, linkage=\"ward\").fit(gdfdata)\n",
    "label = agglo.labels_\n",
    "aggloNorm = normalized_mutual_info_score(gdf['class'], label)\n",
    "print(\"Agglomerative with {} clusters Normalized Mutual Information Score: {}\".format(6, aggloNorm))"
   ]
  },
  {
   "cell_type": "code",
   "execution_count": 159,
   "metadata": {},
   "outputs": [
    {
     "name": "stdout",
     "output_type": "stream",
     "text": [
      "Agglomerative with 6 clusters Normalized Mutual Information Score: 0.4273656083972991\n"
     ]
    }
   ],
   "source": [
    "agglo = AgglomerativeClustering(n_clusters=5, linkage=\"complete\").fit(gdfdata)\n",
    "label = agglo.labels_\n",
    "aggloNorm = normalized_mutual_info_score(gdf['class'], label)\n",
    "print(\"Agglomerative with {} clusters Normalized Mutual Information Score: {}\".format(6, aggloNorm))"
   ]
  },
  {
   "cell_type": "code",
   "execution_count": 158,
   "metadata": {},
   "outputs": [
    {
     "name": "stdout",
     "output_type": "stream",
     "text": [
      "Agglomerative with 6 clusters Normalized Mutual Information Score: 0.01318020230023837\n"
     ]
    }
   ],
   "source": [
    "agglo = AgglomerativeClustering(n_clusters=5, linkage=\"average\").fit(gdfdata)\n",
    "label = agglo.labels_\n",
    "aggloNorm = normalized_mutual_info_score(gdf['class'], label)\n",
    "print(\"Agglomerative with {} clusters Normalized Mutual Information Score: {}\".format(6, aggloNorm))"
   ]
  },
  {
   "cell_type": "code",
   "execution_count": 157,
   "metadata": {},
   "outputs": [
    {
     "name": "stdout",
     "output_type": "stream",
     "text": [
      "Agglomerative with 6 clusters Normalized Mutual Information Score: 0.008870614329632032\n"
     ]
    }
   ],
   "source": [
    "agglo = AgglomerativeClustering(n_clusters=5, linkage=\"single\").fit(gdfdata)\n",
    "label = agglo.labels_\n",
    "aggloNorm = normalized_mutual_info_score(gdf['class'], label)\n",
    "print(\"Agglomerative with {} clusters Normalized Mutual Information Score: {}\".format(6, aggloNorm))"
   ]
  },
  {
   "cell_type": "code",
   "execution_count": null,
   "metadata": {},
   "outputs": [],
   "source": [
    "mixture = GaussianMixture(n_components=5).fit(gdfdata)\n",
    "label = mixture.fit_predict(X=gdfdata)\n",
    "mixtureNorm = normalized_mutual_info_score(gdf['class'], label)\n",
    "print(\"Gaussian Mixture with {} clusters Normalized Mutual Information Score: {}\".format(5, mixtureNorm))"
   ]
  }
 ],
 "metadata": {
  "kernelspec": {
   "display_name": "Python 3",
   "language": "python",
   "name": "python3"
  },
  "language_info": {
   "codemirror_mode": {
    "name": "ipython",
    "version": 3
   },
   "file_extension": ".py",
   "mimetype": "text/x-python",
   "name": "python",
   "nbconvert_exporter": "python",
   "pygments_lexer": "ipython3",
   "version": "3.6.9"
  }
 },
 "nbformat": 4,
 "nbformat_minor": 4
}
