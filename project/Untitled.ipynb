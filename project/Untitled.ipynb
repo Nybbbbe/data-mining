{
 "cells": [
  {
   "cell_type": "markdown",
   "metadata": {},
   "source": [
    "# Project"
   ]
  },
  {
   "cell_type": "code",
   "execution_count": 71,
   "metadata": {},
   "outputs": [],
   "source": [
    "import matplotlib.pyplot as plt\n",
    "import pandas as pd\n",
    "import seaborn as sns\n",
    "import csv\n",
    "from sklearn.cluster import KMeans\n",
    "from sklearn.cluster import SpectralClustering\n",
    "from sklearn.experimental import enable_iterative_imputer\n",
    "from sklearn.impute import IterativeImputer\n",
    "from sklearn.metrics import silhouette_score\n",
    "from sklearn.metrics import davies_bouldin_score\n",
    "from sklearn.metrics import normalized_mutual_info_score\n",
    "from sklearn.cluster import Birch\n",
    "from sklearn.cluster import AgglomerativeClustering\n",
    "from sklearn.feature_selection import VarianceThreshold\n",
    "import math\n",
    "\n",
    "from sklearn.decomposition import PCA\n",
    "from sklearn.preprocessing import StandardScaler\n",
    "\n",
    "%matplotlib inline"
   ]
  },
  {
   "cell_type": "markdown",
   "metadata": {},
   "source": [
    "In this notebook two different data tables are clustered with different clustering methods and clusters are the evaulated with the Normalized Mutual Information Score. The clusterings are mostly done with the help of the python library sklearn which has been used alot in the course. The order of this document will be:\n",
    "\n",
    "Data in 'msdata.csv' is clustered with:\n",
    "\n",
    "    1. K-means clustering\n",
    "    2. Spectral clustering\n",
    "    \n",
    "Then the data in 'genedata.csv' is clustered with:\n",
    "\n",
    "    1. K-means clustering"
   ]
  },
  {
   "cell_type": "code",
   "execution_count": 3,
   "metadata": {},
   "outputs": [],
   "source": [
    "msdf = pd.read_csv('msdata.csv')\n",
    "msdfdata = msdf[msdf.columns[2:]]"
   ]
  },
  {
   "cell_type": "markdown",
   "metadata": {},
   "source": [
    "1. K-means clustering"
   ]
  },
  {
   "cell_type": "code",
   "execution_count": 4,
   "metadata": {},
   "outputs": [
    {
     "name": "stdout",
     "output_type": "stream",
     "text": [
      "Gaussian Mixture with 3 clusters Normalized Mutual Information Score: 0.3364258568034021\n"
     ]
    }
   ],
   "source": [
    "mixture = GaussianMixture(n_components=3).fit(msdfdata)\n",
    "label = mixture.fit_predict(X=msdfdata)\n",
    "mixtureNorm = normalized_mutual_info_score(msdf['class'], label, average_method=\"geometric\")\n",
    "print(\"Gaussian Mixture with {} clusters Normalized Mutual Information Score: {}\".format(3, mixtureNorm))"
   ]
  },
  {
   "cell_type": "code",
   "execution_count": 9,
   "metadata": {},
   "outputs": [
    {
     "name": "stdout",
     "output_type": "stream",
     "text": [
      "KMeans with 3 clusters Normalized Mutual Information Score: 0.0031115195147308726\n",
      "KMeans with 3 clusters Normalized Mutual Information Score: 0.09697750042525421\n",
      "KMeans with 3 clusters Normalized Mutual Information Score: 0.10247896747429054\n",
      "KMeans with 3 clusters Normalized Mutual Information Score: 0.0031115195147308726\n",
      "KMeans with 3 clusters Normalized Mutual Information Score: 0.11900240394932182\n",
      "KMeans with 3 clusters Normalized Mutual Information Score: 0.0031115195147308726\n",
      "KMeans with 3 clusters Normalized Mutual Information Score: 0.0037554952501355943\n",
      "KMeans with 3 clusters Normalized Mutual Information Score: 0.0031115195147308726\n",
      "KMeans with 3 clusters Normalized Mutual Information Score: 0.0037554952501355943\n",
      "KMeans with 3 clusters Normalized Mutual Information Score: 0.04679014608509312\n"
     ]
    }
   ],
   "source": [
    "for i in range(10):\n",
    "    kmeans = KMeans(n_clusters=3, algorithm=\"elkan\").fit(msdfdata)\n",
    "    label = kmeans.labels_\n",
    "    kmeanNorm = normalized_mutual_info_score(msdf['class'], label, average_method=\"geometric\")\n",
    "    print(\"KMeans with {} clusters Normalized Mutual Information Score: {}\".format(3, kmeanNorm))\n"
   ]
  },
  {
   "cell_type": "markdown",
   "metadata": {},
   "source": [
    "2. Spectral clustering"
   ]
  },
  {
   "cell_type": "code",
   "execution_count": 53,
   "metadata": {},
   "outputs": [
    {
     "name": "stderr",
     "output_type": "stream",
     "text": [
      "/home/calle/.local/lib/python3.6/site-packages/sklearn/manifold/_spectral_embedding.py:236: UserWarning: Graph is not fully connected, spectral embedding may not work as expected.\n",
      "  warnings.warn(\"Graph is not fully connected, spectral embedding\"\n"
     ]
    },
    {
     "name": "stdout",
     "output_type": "stream",
     "text": [
      "Spectral Clustering with 3 clusters Normalized Mutual Information Score: 0.00198937067956181\n"
     ]
    }
   ],
   "source": [
    "clustering = SpectralClustering(n_clusters=3).fit(msdfdata)\n",
    "label = clustering.labels_\n",
    "specNorm = normalized_mutual_info_score(msdf['class'], label, average_method=\"geometric\")\n",
    "print(\"Spectral Clustering with {} clusters Normalized Mutual Information Score: {}\".format(3, specNorm))"
   ]
  },
  {
   "cell_type": "code",
   "execution_count": 49,
   "metadata": {},
   "outputs": [
    {
     "name": "stdout",
     "output_type": "stream",
     "text": [
      "Birch with 3 clusters Normalized Mutual Information Score: 0.27482636965510837\n"
     ]
    }
   ],
   "source": [
    "brch = Birch(n_clusters=3).fit(msdfdata)\n",
    "label = brch.labels_\n",
    "brchNorm = normalized_mutual_info_score(msdf['class'], label, average_method=\"geometric\")\n",
    "print(\"Birch with {} clusters Normalized Mutual Information Score: {}\".format(3, brchNorm))"
   ]
  },
  {
   "cell_type": "code",
   "execution_count": 8,
   "metadata": {},
   "outputs": [
    {
     "name": "stdout",
     "output_type": "stream",
     "text": [
      "Agglomerative with 3 clusters Normalized Mutual Information Score: 0.2780728028320788\n"
     ]
    }
   ],
   "source": [
    "agglo = AgglomerativeClustering(n_clusters=3, linkage=\"ward\").fit(msdfdata)\n",
    "label = agglo.labels_\n",
    "aggloNorm = normalized_mutual_info_score(msdf['class'], label, average_method=\"geometric\")\n",
    "print(\"Agglomerative with {} clusters Normalized Mutual Information Score: {}\".format(3, aggloNorm))"
   ]
  },
  {
   "cell_type": "code",
   "execution_count": 6,
   "metadata": {},
   "outputs": [
    {
     "name": "stdout",
     "output_type": "stream",
     "text": [
      "Agglomerative with 3 clusters Normalized Mutual Information Score: 0.2489311460859403\n"
     ]
    }
   ],
   "source": [
    "agglo = AgglomerativeClustering(n_clusters=3, linkage=\"complete\").fit(msdfdata)\n",
    "label = agglo.labels_\n",
    "aggloNorm = normalized_mutual_info_score(msdf['class'], label, average_method=\"geometric\")\n",
    "print(\"Agglomerative with {} clusters Normalized Mutual Information Score: {}\".format(3, aggloNorm))"
   ]
  },
  {
   "cell_type": "code",
   "execution_count": 5,
   "metadata": {},
   "outputs": [
    {
     "name": "stdout",
     "output_type": "stream",
     "text": [
      "Agglomerative with 3 clusters Normalized Mutual Information Score: 0.018971829084704715\n"
     ]
    }
   ],
   "source": [
    "agglo = AgglomerativeClustering(n_clusters=3, linkage=\"average\").fit(msdfdata)\n",
    "label = agglo.labels_\n",
    "aggloNorm = normalized_mutual_info_score(msdf['class'], label, average_method=\"geometric\")\n",
    "print(\"Agglomerative with {} clusters Normalized Mutual Information Score: {}\".format(3, aggloNorm))"
   ]
  },
  {
   "cell_type": "code",
   "execution_count": 7,
   "metadata": {},
   "outputs": [
    {
     "name": "stdout",
     "output_type": "stream",
     "text": [
      "Agglomerative with 3 clusters Normalized Mutual Information Score: 0.018971829084704715\n"
     ]
    }
   ],
   "source": [
    "agglo = AgglomerativeClustering(n_clusters=3, linkage=\"single\").fit(msdfdata)\n",
    "label = agglo.labels_\n",
    "aggloNorm = normalized_mutual_info_score(msdf['class'], label, average_method=\"geometric\")\n",
    "print(\"Agglomerative with {} clusters Normalized Mutual Information Score: {}\".format(3, aggloNorm))"
   ]
  },
  {
   "cell_type": "markdown",
   "metadata": {},
   "source": [
    "Starting to cluster the other data file"
   ]
  },
  {
   "cell_type": "code",
   "execution_count": 162,
   "metadata": {},
   "outputs": [],
   "source": [
    "gdf = pd.read_csv('genedata.csv')\n",
    "gdfdata = gdf[gdf.columns[2:]]"
   ]
  },
  {
   "cell_type": "code",
   "execution_count": 163,
   "metadata": {},
   "outputs": [
    {
     "name": "stdout",
     "output_type": "stream",
     "text": [
      "KMeans with 6 clusters Normalized Mutual Information Score: 0.8562774639480124\n",
      "KMeans with 6 clusters Normalized Mutual Information Score: 0.8562774639480125\n",
      "KMeans with 6 clusters Normalized Mutual Information Score: 0.8574036569173418\n",
      "KMeans with 6 clusters Normalized Mutual Information Score: 0.8585439102213661\n",
      "KMeans with 6 clusters Normalized Mutual Information Score: 0.8585439102213661\n",
      "KMeans with 6 clusters Normalized Mutual Information Score: 0.8562774639480124\n",
      "KMeans with 6 clusters Normalized Mutual Information Score: 0.8585439102213659\n",
      "KMeans with 6 clusters Normalized Mutual Information Score: 0.8562774639480127\n",
      "KMeans with 6 clusters Normalized Mutual Information Score: 0.8585439102213661\n",
      "KMeans with 6 clusters Normalized Mutual Information Score: 0.8585439102213661\n"
     ]
    }
   ],
   "source": [
    "for i in range(10):\n",
    "    kmeans = KMeans(n_clusters=5, algorithm=\"full\").fit(gdfdata)\n",
    "    label = kmeans.labels_\n",
    "    kmeanNorm = normalized_mutual_info_score(gdf['class'], label, average_method=\"geometric\")\n",
    "    print(\"KMeans with {} clusters Normalized Mutual Information Score: {}\".format(6, kmeanNorm))\n"
   ]
  },
  {
   "cell_type": "markdown",
   "metadata": {},
   "source": [
    "Spectral clustering"
   ]
  },
  {
   "cell_type": "code",
   "execution_count": 162,
   "metadata": {},
   "outputs": [
    {
     "name": "stderr",
     "output_type": "stream",
     "text": [
      "/home/calle/.local/lib/python3.6/site-packages/sklearn/manifold/_spectral_embedding.py:236: UserWarning: Graph is not fully connected, spectral embedding may not work as expected.\n",
      "  warnings.warn(\"Graph is not fully connected, spectral embedding\"\n"
     ]
    },
    {
     "name": "stdout",
     "output_type": "stream",
     "text": [
      "Spectral Clustering with 6 clusters Normalized Mutual Information Score: 0.017081943187279937\n"
     ]
    }
   ],
   "source": [
    "clustering = SpectralClustering(n_clusters=5).fit(gdfdata)\n",
    "label = clustering.labels_\n",
    "specNorm = normalized_mutual_info_score(gdf['class'], label)\n",
    "print(\"Spectral Clustering with {} clusters Normalized Mutual Information Score: {}\".format(6, specNorm))"
   ]
  },
  {
   "cell_type": "code",
   "execution_count": 167,
   "metadata": {},
   "outputs": [
    {
     "name": "stdout",
     "output_type": "stream",
     "text": [
      "Birch with 6 clusters Normalized Mutual Information Score: 0.8837573601627926\n"
     ]
    }
   ],
   "source": [
    "brch = Birch(n_clusters=5).fit(gdfdata)\n",
    "label = brch.labels_\n",
    "brchNorm = normalized_mutual_info_score(gdf['class'], label, average_method=\"geometric\")\n",
    "print(\"Birch with {} clusters Normalized Mutual Information Score: {}\".format(6, brchNorm))"
   ]
  },
  {
   "cell_type": "code",
   "execution_count": 166,
   "metadata": {},
   "outputs": [
    {
     "name": "stdout",
     "output_type": "stream",
     "text": [
      "Agglomerative with 6 clusters Normalized Mutual Information Score: 0.8837573601627926\n"
     ]
    }
   ],
   "source": [
    "agglo = AgglomerativeClustering(n_clusters=5, linkage=\"ward\").fit(gdfdata)\n",
    "label = agglo.labels_\n",
    "aggloNorm = normalized_mutual_info_score(gdf['class'], label, average_method=\"geometric\")\n",
    "print(\"Agglomerative with {} clusters Normalized Mutual Information Score: {}\".format(6, aggloNorm))"
   ]
  },
  {
   "cell_type": "code",
   "execution_count": 168,
   "metadata": {},
   "outputs": [
    {
     "name": "stdout",
     "output_type": "stream",
     "text": [
      "Agglomerative with 6 clusters Normalized Mutual Information Score: 0.4359613137952448\n"
     ]
    }
   ],
   "source": [
    "agglo = AgglomerativeClustering(n_clusters=5, linkage=\"complete\").fit(gdfdata)\n",
    "label = agglo.labels_\n",
    "aggloNorm = normalized_mutual_info_score(gdf['class'], label, average_method=\"geometric\")\n",
    "print(\"Agglomerative with {} clusters Normalized Mutual Information Score: {}\".format(6, aggloNorm))"
   ]
  },
  {
   "cell_type": "code",
   "execution_count": 169,
   "metadata": {},
   "outputs": [
    {
     "name": "stdout",
     "output_type": "stream",
     "text": [
      "Agglomerative with 6 clusters Normalized Mutual Information Score: 0.03618961451694587\n"
     ]
    }
   ],
   "source": [
    "agglo = AgglomerativeClustering(n_clusters=5, linkage=\"average\").fit(gdfdata)\n",
    "label = agglo.labels_\n",
    "aggloNorm = normalized_mutual_info_score(gdf['class'], label, average_method=\"geometric\")\n",
    "print(\"Agglomerative with {} clusters Normalized Mutual Information Score: {}\".format(6, aggloNorm))"
   ]
  },
  {
   "cell_type": "code",
   "execution_count": 170,
   "metadata": {},
   "outputs": [
    {
     "name": "stdout",
     "output_type": "stream",
     "text": [
      "Agglomerative with 6 clusters Normalized Mutual Information Score: 0.028462663673074918\n"
     ]
    }
   ],
   "source": [
    "agglo = AgglomerativeClustering(n_clusters=5, linkage=\"single\").fit(gdfdata)\n",
    "label = agglo.labels_\n",
    "aggloNorm = normalized_mutual_info_score(gdf['class'], label, average_method=\"geometric\")\n",
    "print(\"Agglomerative with {} clusters Normalized Mutual Information Score: {}\".format(6, aggloNorm))"
   ]
  },
  {
   "cell_type": "markdown",
   "metadata": {},
   "source": [
    "# TESTING"
   ]
  },
  {
   "cell_type": "code",
   "execution_count": 750,
   "metadata": {},
   "outputs": [
    {
     "name": "stdout",
     "output_type": "stream",
     "text": [
      "KMeans with 3 clusters Normalized Mutual Information Score: 0.6955525247318097\n",
      "Birch with 3 clusters Normalized Mutual Information Score: 0.6804449598029535\n",
      "Agglomerative with 3 clusters Normalized Mutual Information Score: 0.4921492384885865\n"
     ]
    }
   ],
   "source": [
    "df = pd.read_csv(\"msdata.csv\")\n",
    "dfd = df[df.columns[2:]]\n",
    "sel = VarianceThreshold(threshold=(4)).fit_transform(dfd)\n",
    "x_std = StandardScaler().fit_transform(sel)\n",
    "\n",
    "pca = PCA(n_components=20)\n",
    "principalComponents = pca.fit_transform(x_std)\n",
    "\n",
    "PCA_components = pd.DataFrame(principalComponents)\n",
    "\n",
    "kmeans = KMeans(n_clusters=3).fit(PCA_components.iloc[:,:2])\n",
    "label = kmeans.labels_\n",
    "kmeanNorm = normalized_mutual_info_score(df['class'], label, average_method=\"geometric\")\n",
    "print(\"KMeans with {} clusters Normalized Mutual Information Score: {}\".format(3, kmeanNorm))\n",
    "\n",
    "brch = Birch(n_clusters=3).fit(PCA_components.iloc[:,:3])\n",
    "label = brch.labels_\n",
    "brchNorm = normalized_mutual_info_score(df['class'], label, average_method=\"geometric\")\n",
    "print(\"Birch with {} clusters Normalized Mutual Information Score: {}\".format(3, brchNorm))\n",
    "\n",
    "agglo = AgglomerativeClustering(n_clusters=3, linkage=\"ward\").fit(PCA_components.iloc[:,:12])\n",
    "label = agglo.labels_\n",
    "aggloNorm = normalized_mutual_info_score(df['class'], label, average_method=\"geometric\")\n",
    "print(\"Agglomerative with {} clusters Normalized Mutual Information Score: {}\".format(3, aggloNorm))\n"
   ]
  },
  {
   "cell_type": "code",
   "execution_count": 623,
   "metadata": {},
   "outputs": [
    {
     "name": "stdout",
     "output_type": "stream",
     "text": [
      "KMeans with 3 clusters Normalized Mutual Information Score: 0.69555252473181\n",
      "Birch with 3 clusters Normalized Mutual Information Score: 0.6875788749097713\n",
      "Agglomerative with 3 clusters Normalized Mutual Information Score: 0.5494279620421137\n"
     ]
    }
   ],
   "source": [
    "kmeans = KMeans(n_clusters=3).fit(PCA_components.iloc[:,:2])\n",
    "label = kmeans.labels_\n",
    "kmeanNorm = normalized_mutual_info_score(df['class'], label, average_method=\"geometric\")\n",
    "print(\"KMeans with {} clusters Normalized Mutual Information Score: {}\".format(3, kmeanNorm))\n",
    "\n",
    "brch = Birch(n_clusters=3).fit(PCA_components.iloc[:,:2])\n",
    "label = brch.labels_\n",
    "brchNorm = normalized_mutual_info_score(df['class'], label, average_method=\"geometric\")\n",
    "print(\"Birch with {} clusters Normalized Mutual Information Score: {}\".format(3, brchNorm))\n",
    "\n",
    "agglo = AgglomerativeClustering(n_clusters=3, linkage=\"ward\").fit(PCA_components.iloc[:,:12])\n",
    "label = agglo.labels_\n",
    "aggloNorm = normalized_mutual_info_score(df['class'], label, average_method=\"geometric\")\n",
    "print(\"Agglomerative with {} clusters Normalized Mutual Information Score: {}\".format(3, aggloNorm))\n"
   ]
  },
  {
   "cell_type": "code",
   "execution_count": 744,
   "metadata": {},
   "outputs": [
    {
     "data": {
      "text/plain": [
       "77"
      ]
     },
     "execution_count": 744,
     "metadata": {},
     "output_type": "execute_result"
    }
   ],
   "source": [
    "dfd.var()[dfd.var() > 15].count()"
   ]
  },
  {
   "cell_type": "code",
   "execution_count": 740,
   "metadata": {},
   "outputs": [
    {
     "data": {
      "image/png": "[encoded data removed]",
      "text/plain": [
       "<Figure size 432x288 with 1 Axes>"
      ]
     },
     "metadata": {
      "needs_background": "light"
     },
     "output_type": "display_data"
    }
   ],
   "source": [
    "df = pd.read_csv(\"genedata.csv\")\n",
    "dfd = df[df.columns[2:]]\n",
    "sel = VarianceThreshold(threshold=(1)).fit_transform(dfd)\n",
    "x_std = StandardScaler().fit_transform(sel)\n",
    "\n",
    "pca = PCA(n_components=20)\n",
    "principalComponents = pca.fit_transform(x_std)\n",
    "\n",
    "features = range(pca.n_components_)\n",
    "plt.bar(features, pca.explained_variance_ratio_, color=\"black\")\n",
    "plt.xlabel(\"PCA Features\")\n",
    "plt.ylabel(\"Variance %\")\n",
    "plt.xticks(features)\n",
    "\n",
    "PCA_components = pd.DataFrame(principalComponents)"
   ]
  },
  {
   "cell_type": "code",
   "execution_count": 741,
   "metadata": {},
   "outputs": [
    {
     "name": "stdout",
     "output_type": "stream",
     "text": [
      "KMeans with 3 clusters Normalized Mutual Information Score: 0.8448004191537566\n",
      "Birch with 3 clusters Normalized Mutual Information Score: 0.9612451237898452\n",
      "Agglomerative with 3 clusters Normalized Mutual Information Score: 0.9612451237898452\n"
     ]
    }
   ],
   "source": [
    "kmeans = KMeans(n_clusters=5).fit(PCA_components.iloc[:,:12])\n",
    "label = kmeans.labels_\n",
    "kmeanNorm = normalized_mutual_info_score(df['class'], label, average_method=\"geometric\")\n",
    "print(\"KMeans with {} clusters Normalized Mutual Information Score: {}\".format(3, kmeanNorm))\n",
    "\n",
    "brch = Birch(n_clusters=5).fit(PCA_components.iloc[:,:12])\n",
    "label = brch.labels_\n",
    "brchNorm = normalized_mutual_info_score(df['class'], label, average_method=\"geometric\")\n",
    "print(\"Birch with {} clusters Normalized Mutual Information Score: {}\".format(3, brchNorm))\n",
    "\n",
    "agglo = AgglomerativeClustering(n_clusters=5, linkage=\"ward\").fit(PCA_components.iloc[:,:12])\n",
    "label = agglo.labels_\n",
    "aggloNorm = normalized_mutual_info_score(df['class'], label, average_method=\"geometric\")\n",
    "print(\"Agglomerative with {} clusters Normalized Mutual Information Score: {}\".format(3, aggloNorm))\n",
    "\n"
   ]
  },
  {
   "cell_type": "code",
   "execution_count": 734,
   "metadata": {},
   "outputs": [
    {
     "data": {
      "text/plain": [
       "26"
      ]
     },
     "execution_count": 734,
     "metadata": {},
     "output_type": "execute_result"
    }
   ],
   "source": [
    "dfd.var()[dfd.var() > 1].count()\n",
    "dfd.var()[dfd.var() > 9].count()"
   ]
  },
  {
   "cell_type": "code",
   "execution_count": null,
   "metadata": {},
   "outputs": [],
   "source": []
  }
 ],
 "metadata": {
  "kernelspec": {
   "display_name": "Python 3",
   "language": "python",
   "name": "python3"
  },
  "language_info": {
   "codemirror_mode": {
    "name": "ipython",
    "version": 3
   },
   "file_extension": ".py",
   "mimetype": "text/x-python",
   "name": "python",
   "nbconvert_exporter": "python",
   "pygments_lexer": "ipython3",
   "version": "3.6.9"
  }
 },
 "nbformat": 4,
 "nbformat_minor": 4
}
