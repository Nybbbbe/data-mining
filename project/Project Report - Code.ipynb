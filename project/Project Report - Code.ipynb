{
 "cells": [
  {
   "cell_type": "markdown",
   "metadata": {},
   "source": [
    "## Project Code"
   ]
  },
  {
   "cell_type": "markdown",
   "metadata": {},
   "source": [
    "#### Imports"
   ]
  },
  {
   "cell_type": "code",
   "execution_count": 1,
   "metadata": {},
   "outputs": [],
   "source": [
    "import pandas as pd\n",
    "import csv\n",
    "from sklearn.cluster import KMeans\n",
    "from sklearn.cluster import SpectralClustering\n",
    "from sklearn.metrics import normalized_mutual_info_score\n",
    "from sklearn.cluster import Birch\n",
    "from sklearn.cluster import AgglomerativeClustering\n",
    "from sklearn.feature_selection import VarianceThreshold\n",
    "import math\n",
    "\n",
    "from sklearn.decomposition import PCA\n",
    "from sklearn.preprocessing import StandardScaler\n",
    "\n",
    "%matplotlib inline"
   ]
  },
  {
   "cell_type": "markdown",
   "metadata": {},
   "source": [
    "#### PCA Variance "
   ]
  },
  {
   "cell_type": "code",
   "execution_count": 9,
   "metadata": {},
   "outputs": [
    {
     "data": {
      "image/png": "[encoded data removed]",
      "text/plain": [
       "<Figure size 432x288 with 1 Axes>"
      ]
     },
     "metadata": {
      "needs_background": "light"
     },
     "output_type": "display_data"
    }
   ],
   "source": [
    "df = pd.read_csv(\"genedata.csv\")\n",
    "dfd = df[df.columns[2:]]\n",
    "sel = VarianceThreshold(threshold=(1.9)).fit_transform(dfd)\n",
    "std = StandardScaler().fit_transform(sel)\n",
    "\n",
    "pca = PCA(n_components=11)\n",
    "principalComponents = pca.fit_transform(std)\n",
    "\n",
    "features = range(pca.n_components_)\n",
    "plt.bar(features, pca.explained_variance_ratio_)\n",
    "\n",
    "plt.xlabel(\"Features\")\n",
    "plt.ylabel(\"Variance\")\n",
    "\n",
    "plt.xticks(features)\n",
    "\n",
    "PCA_components = pd.DataFrame(principalComponents)"
   ]
  },
  {
   "cell_type": "code",
   "execution_count": 11,
   "metadata": {},
   "outputs": [
    {
     "data": {
      "image/png": "[encoded data removed]",
      "text/plain": [
       "<Figure size 432x288 with 1 Axes>"
      ]
     },
     "metadata": {
      "needs_background": "light"
     },
     "output_type": "display_data"
    }
   ],
   "source": [
    "df = pd.read_csv(\"msdata.csv\")\n",
    "dfd = df[df.columns[2:]]\n",
    "sel = VarianceThreshold(threshold=(1.9)).fit_transform(dfd)\n",
    "std = StandardScaler().fit_transform(sel)\n",
    "\n",
    "pca = PCA(n_components=11)\n",
    "principalComponents = pca.fit_transform(std)\n",
    "\n",
    "features = range(pca.n_components_)\n",
    "plt.bar(features, pca.explained_variance_ratio_)\n",
    "\n",
    "plt.xlabel(\"Features\")\n",
    "plt.ylabel(\"Variance\")\n",
    "\n",
    "plt.xticks(features)\n",
    "\n",
    "PCA_components = pd.DataFrame(principalComponents)"
   ]
  },
  {
   "cell_type": "markdown",
   "metadata": {},
   "source": [
    "### Helper functions for analysing data"
   ]
  },
  {
   "cell_type": "code",
   "execution_count": 23,
   "metadata": {},
   "outputs": [
    {
     "data": {
      "text/plain": [
       "914"
      ]
     },
     "execution_count": 23,
     "metadata": {},
     "output_type": "execute_result"
    }
   ],
   "source": [
    "# For checking how many features are left after using the threshold\n",
    "dfd.var()[dfd.var() > 9].count()\n",
    "\n",
    "# For-loops for checking which values provide the highest NMI\n",
    "\n",
    "#### Jan paste in din kod hit :DD ####"
   ]
  },
  {
   "cell_type": "markdown",
   "metadata": {},
   "source": [
    "#### Analysing the data"
   ]
  },
  {
   "cell_type": "code",
   "execution_count": 22,
   "metadata": {},
   "outputs": [
    {
     "name": "stdout",
     "output_type": "stream",
     "text": [
      "Msdata KMeans Normalized Mutual Information Score: 0.7057431100067889\n",
      "Msdata Birch Normalized Mutual Information Score: 0.6804449598029535\n",
      "Msdata Agglomerative clustering Normalized Mutual Information Score: 0.5147703009647473\n",
      "Msdata Agglomerative clustering Normalized Mutual Information Score: 0.0037554952501355943\n",
      "Msdata Agglomerative clustering Normalized Mutual Information Score: 0.18152774672960686\n",
      "Msdata Agglomerative clustering Normalized Mutual Information Score: 0.0037554952501355943\n"
     ]
    }
   ],
   "source": [
    "df = pd.read_csv(\"msdata.csv\")\n",
    "dfd = df[df.columns[2:]]\n",
    "sel = VarianceThreshold(threshold=(4)).fit_transform(dfd)\n",
    "std = StandardScaler().fit_transform(sel)\n",
    "\n",
    "pca = PCA()\n",
    "principalComponents = pca.fit_transform(std)\n",
    "\n",
    "PCA_components = pd.DataFrame(principalComponents)\n",
    "\n",
    "kmeans = KMeans(n_clusters=3).fit(PCA_components.iloc[:,:2])\n",
    "label = kmeans.labels_\n",
    "#np.savetxt(r'/path-to-dir/ms_labels.txt', label, fmt='%d')\n",
    "kmeanNorm = normalized_mutual_info_score(df['class'], label, average_method=\"geometric\")\n",
    "print(\"Msdata KMeans Normalized Mutual Information Score: {}\".format(kmeanNorm))\n",
    "\n",
    "brch = Birch(n_clusters=3).fit(PCA_components.iloc[:,:3])\n",
    "label = brch.labels_\n",
    "brchNorm = normalized_mutual_info_score(df['class'], label, average_method=\"geometric\")\n",
    "print(\"Msdata Birch Normalized Mutual Information Score: {}\".format(brchNorm))\n",
    "\n",
    "agglo = AgglomerativeClustering(n_clusters=3, linkage=\"ward\").fit(PCA_components.iloc[:,:12])\n",
    "label = agglo.labels_\n",
    "aggloNorm = normalized_mutual_info_score(df['class'], label, average_method=\"geometric\")\n",
    "print(\"Msdata Agglomerative clustering Normalized Mutual Information Score: {}\".format(aggloNorm))\n",
    "\n",
    "agglo = AgglomerativeClustering(n_clusters=3, linkage=\"average\").fit(PCA_components.iloc[:,:12])\n",
    "label = agglo.labels_\n",
    "aggloNorm = normalized_mutual_info_score(df['class'], label, average_method=\"geometric\")\n",
    "print(\"Msdata Agglomerative clustering Normalized Mutual Information Score: {}\".format(aggloNorm))\n",
    "\n",
    "agglo = AgglomerativeClustering(n_clusters=3, linkage=\"complete\").fit(PCA_components.iloc[:,:12])\n",
    "label = agglo.labels_\n",
    "aggloNorm = normalized_mutual_info_score(df['class'], label, average_method=\"geometric\")\n",
    "print(\"Msdata Agglomerative clustering Normalized Mutual Information Score: {}\".format(aggloNorm))\n",
    "\n",
    "agglo = AgglomerativeClustering(n_clusters=3, linkage=\"single\").fit(PCA_components.iloc[:,:12])\n",
    "label = agglo.labels_\n",
    "aggloNorm = normalized_mutual_info_score(df['class'], label, average_method=\"geometric\")\n",
    "print(\"Msdata Agglomerative clustering Normalized Mutual Information Score: {}\".format(aggloNorm))\n"
   ]
  },
  {
   "cell_type": "code",
   "execution_count": 19,
   "metadata": {},
   "outputs": [
    {
     "name": "stdout",
     "output_type": "stream",
     "text": [
      "Gene data KMeans Normalized Mutual Information Score: 0.8744396463524872\n",
      "Gene data Birch Normalized Mutual Information Score: 0.972646282083752\n",
      "Gene data Agglomerative Clustering Normalized Mutual Information Score: 0.972646282083752\n"
     ]
    }
   ],
   "source": [
    "df = pd.read_csv(\"genedata.csv\")\n",
    "dfd = df[df.columns[2:]]\n",
    "sel = VarianceThreshold(threshold=(1.9)).fit_transform(dfd)\n",
    "std = StandardScaler().fit_transform(sel)\n",
    "\n",
    "pca = PCA(n_components=11)\n",
    "principalComponents = pca.fit_transform(std)\n",
    "\n",
    "PCA_components = pd.DataFrame(principalComponents)\n",
    "\n",
    "kmeans = KMeans(n_clusters=5).fit(PCA_components.iloc[:,:12])\n",
    "label = kmeans.labels_\n",
    "kmeanNormalized = normalized_mutual_info_score(df['class'], label, average_method=\"geometric\")\n",
    "print(\"Gene data KMeans Normalized Mutual Information Score: {}\".format(kmeanNormalized))\n",
    "\n",
    "brch = Birch(n_clusters=5).fit(PCA_components.iloc[:,:12])\n",
    "label = brch.labels_\n",
    "#np.savetxt(r'/path-to-dir/gene_labels.txt', label, fmt='%d')\n",
    "brchNormalized = normalized_mutual_info_score(df['class'], label, average_method=\"geometric\")\n",
    "print(\"Gene data Birch Normalized Mutual Information Score: {}\".format(brchNormalized))\n",
    "\n",
    "agglo = AgglomerativeClustering(n_clusters=5, linkage=\"ward\").fit(PCA_components.iloc[:,:12])\n",
    "label = agglo.labels_\n",
    "aggloNormalized = normalized_mutual_info_score(df['class'], label, average_method=\"geometric\")\n",
    "print(\"Gene data Agglomerative Clustering Normalized Mutual Information Score: {}\".format(aggloNormalized))\n",
    "\n"
   ]
  }
 ],
 "metadata": {
  "kernelspec": {
   "display_name": "Python 3",
   "language": "python",
   "name": "python3"
  },
  "language_info": {
   "codemirror_mode": {
    "name": "ipython",
    "version": 3
   },
   "file_extension": ".py",
   "mimetype": "text/x-python",
   "name": "python",
   "nbconvert_exporter": "python",
   "pygments_lexer": "ipython3",
   "version": "3.6.9"
  }
 },
 "nbformat": 4,
 "nbformat_minor": 4
}
